{
 "cells": [
  {
   "cell_type": "code",
   "execution_count": 209,
   "id": "05a4b5ee-1746-4dc7-be1d-831f7448ef4f",
   "metadata": {},
   "outputs": [],
   "source": [
    "import tensorflow as tf\n",
    "from tensorflow import keras\n",
    "from tensorflow.keras import layers\n",
    "import pandas as pd\n",
    "import numpy as np\n",
    "import random\n",
    "import matplotlib.pyplot as plt\n",
    "\n",
    "\n",
    "random.seed(5) #for reproducability\n",
    "chunk_size = 256 #configure as needed"
   ]
  },
  {
   "cell_type": "code",
   "execution_count": 211,
   "id": "944f3f2e-bd2f-4c83-9469-89ea641c0191",
   "metadata": {},
   "outputs": [],
   "source": [
    "def Linear_Scale(dataframe, column): #normal absolute max normalization\n",
    "    dataframe[column] = (dataframe[column] - dataframe[column].min()) / (dataframe[column].max() - dataframe[column].min())\n",
    "    \n",
    "def Z_norm(dataframe, column): #see z-score normalization, better for outlier detection\n",
    "    dataframe[column] = (dataframe[column] - dataframe[column].mean()) / dataframe[column].std()\n",
    "\n",
    "def dfsplitter(dflist):\n",
    "    percent70 = int(len(dflist) * 0.7)\n",
    "    percent20 = int(len(dflist) * 0.2)\n",
    "    \n",
    "    first70 = dflist[0 : percent70]\n",
    "    next20 = dflist[percent70 : percent70 + percent20]\n",
    "    last10 = dflist[percent70 + percent20 : ]\n",
    "    return(first70, next20, last10)\n",
    "\n",
    "def combine_and_shuffle(list1, list2):\n",
    "    dflist = list1 + list2\n",
    "    random.shuffle(dflist)\n",
    "    return pd.concat(dflist, ignore_index=True)"
   ]
  },
  {
   "cell_type": "code",
   "execution_count": 213,
   "id": "a5da3184-c7e2-46a1-a878-943d28502f1b",
   "metadata": {},
   "outputs": [
    {
     "data": {
      "text/plain": [
       "[<matplotlib.lines.Line2D at 0x25513ac5a30>,\n",
       " <matplotlib.lines.Line2D at 0x25513ac59a0>]"
      ]
     },
     "execution_count": 213,
     "metadata": {},
     "output_type": "execute_result"
    },
    {
     "data": {
      "image/png": "[encoded data removed]",
      "text/plain": [
       "<Figure size 640x480 with 1 Axes>"
      ]
     },
     "metadata": {},
     "output_type": "display_data"
    }
   ],
   "source": [
    "random.seed(5)\n",
    "\n",
    "df = pd.read_csv('processed.csv', chunksize=chunk_size, iterator=True) #df is now a TextFileReader dtype\n",
    "allchunks = [pd.DataFrame(chunk) for chunk in df]\n",
    "random.shuffle(allchunks)\n",
    "\n",
    "empty = pd.read_csv('empty.csv', chunksize=chunk_size, iterator=True)\n",
    "allempties = []\n",
    "\n",
    "for chunk in empty:\n",
    "    chunk.loc[chunk.sample(frac=0.004, random_state=2).index, columns_for_train] = 5996\n",
    "    for column in columns_for_train:\n",
    "        Z_norm(chunk, column)\n",
    "        Linear_Scale(chunk, column)\n",
    "    allempties.append(pd.DataFrame(chunk))\n",
    "\n",
    "\n",
    "first70, next20, last10 = dfsplitter(allchunks)\n",
    "empty70, empty20, empty10 = dfsplitter(allempties)\n",
    "\n",
    "final70 = combine_and_shuffle(first70, empty70)\n",
    "final20 = combine_and_shuffle(next20, empty20)\n",
    "final10 = combine_and_shuffle(last10, empty10)\n",
    "plt.plot(final70.index[:], final70['1.0 std'][:], final70['Fire'][:])"
   ]
  },
  {
   "cell_type": "code",
   "execution_count": 29,
   "id": "9e51b0cf-7799-4deb-ad70-2aa7d723acd3",
   "metadata": {},
   "outputs": [
    {
     "name": "stdout",
     "output_type": "stream",
     "text": [
      "21735\n"
     ]
    }
   ],
   "source": [
    "#reshaping dataframe, pull X and y\n",
    "columns_for_train = ['1.0 std','2.5 std', '10 std'] #choose what to train on\n",
    "\n",
    "X = sdf.loc[:, columns_for_train] #dataframe with only these columns\n",
    "y = sdf.loc[:, ['Fire']] #dataframe for output\n",
    "\n",
    "X, y = X.to_numpy(), y.to_numpy() #convert to numpy arrays\n",
    "\n",
    "y = y.flatten() #reshaping each\n",
    "X = X.reshape((X.shape[0], X.shape[1], 1))\n",
    "\n",
    "print(len(X))"
   ]
  },
  {
   "cell_type": "code",
   "execution_count": 31,
   "id": "13cd8744-f951-4b37-b972-a1151bc51503",
   "metadata": {},
   "outputs": [
    {
     "data": {
      "text/plain": [
       "((15104, 3, 1), (15104,), (4352, 3, 1), (4352,), (2279, 3, 1), (2279,))"
      ]
     },
     "execution_count": 31,
     "metadata": {},
     "output_type": "execute_result"
    }
   ],
   "source": [
    "#split into train, validation, and test for X and y\n",
    "\n",
    "\n",
    "train_size = int(len(allchunks)*0.7) * chunk_size #70% of data, ensures a chunk wont get broken up during train/val/test split\n",
    "val_size = int(len(allchunks)*0.2) * chunk_size #20%\n",
    "#test data is just the rest (not exactly 10% due to rounding)\n",
    "\n",
    "\n",
    "X_train, y_train = X[:train_size], y[:train_size]\n",
    "X_val, y_val = X[train_size:train_size + val_size], y[train_size:train_size + val_size]\n",
    "X_test, y_test = X[train_size + val_size:], y[train_size + val_size:]\n",
    "\n",
    "\n",
    "X_train.shape, y_train.shape, X_val.shape, y_val.shape, X_test.shape, y_test.shape"
   ]
  },
  {
   "cell_type": "code",
   "execution_count": 33,
   "id": "8aadb906-4eb5-470d-b3dd-934d4c7cfe82",
   "metadata": {},
   "outputs": [
    {
     "data": {
      "text/html": [
       "<pre style=\"white-space:pre;overflow-x:auto;line-height:normal;font-family:Menlo,'DejaVu Sans Mono',consolas,'Courier New',monospace\"><span style=\"font-weight: bold\">Model: \"sequential_1\"</span>\n",
       "</pre>\n"
      ],
      "text/plain": [
       "\u001b[1mModel: \"sequential_1\"\u001b[0m\n"
      ]
     },
     "metadata": {},
     "output_type": "display_data"
    },
    {
     "data": {
      "text/html": [
       "<pre style=\"white-space:pre;overflow-x:auto;line-height:normal;font-family:Menlo,'DejaVu Sans Mono',consolas,'Courier New',monospace\">┏━━━━━━━━━━━━━━━━━━━━━━━━━━━━━━━━━┳━━━━━━━━━━━━━━━━━━━━━━━━┳━━━━━━━━━━━━━━━┓\n",
       "┃<span style=\"font-weight: bold\"> Layer (type)                    </span>┃<span style=\"font-weight: bold\"> Output Shape           </span>┃<span style=\"font-weight: bold\">       Param # </span>┃\n",
       "┡━━━━━━━━━━━━━━━━━━━━━━━━━━━━━━━━━╇━━━━━━━━━━━━━━━━━━━━━━━━╇━━━━━━━━━━━━━━━┩\n",
       "│ gru_2 (<span style=\"color: #0087ff; text-decoration-color: #0087ff\">GRU</span>)                     │ (<span style=\"color: #00d7ff; text-decoration-color: #00d7ff\">None</span>, <span style=\"color: #00af00; text-decoration-color: #00af00\">3</span>, <span style=\"color: #00af00; text-decoration-color: #00af00\">512</span>)         │       <span style=\"color: #00af00; text-decoration-color: #00af00\">791,040</span> │\n",
       "├─────────────────────────────────┼────────────────────────┼───────────────┤\n",
       "│ gru_3 (<span style=\"color: #0087ff; text-decoration-color: #0087ff\">GRU</span>)                     │ (<span style=\"color: #00d7ff; text-decoration-color: #00d7ff\">None</span>, <span style=\"color: #00af00; text-decoration-color: #00af00\">256</span>)            │       <span style=\"color: #00af00; text-decoration-color: #00af00\">591,360</span> │\n",
       "├─────────────────────────────────┼────────────────────────┼───────────────┤\n",
       "│ dense_1 (<span style=\"color: #0087ff; text-decoration-color: #0087ff\">Dense</span>)                 │ (<span style=\"color: #00d7ff; text-decoration-color: #00d7ff\">None</span>, <span style=\"color: #00af00; text-decoration-color: #00af00\">2</span>)              │           <span style=\"color: #00af00; text-decoration-color: #00af00\">514</span> │\n",
       "└─────────────────────────────────┴────────────────────────┴───────────────┘\n",
       "</pre>\n"
      ],
      "text/plain": [
       "┏━━━━━━━━━━━━━━━━━━━━━━━━━━━━━━━━━┳━━━━━━━━━━━━━━━━━━━━━━━━┳━━━━━━━━━━━━━━━┓\n",
       "┃\u001b[1m \u001b[0m\u001b[1mLayer (type)                   \u001b[0m\u001b[1m \u001b[0m┃\u001b[1m \u001b[0m\u001b[1mOutput Shape          \u001b[0m\u001b[1m \u001b[0m┃\u001b[1m \u001b[0m\u001b[1m      Param #\u001b[0m\u001b[1m \u001b[0m┃\n",
       "┡━━━━━━━━━━━━━━━━━━━━━━━━━━━━━━━━━╇━━━━━━━━━━━━━━━━━━━━━━━━╇━━━━━━━━━━━━━━━┩\n",
       "│ gru_2 (\u001b[38;5;33mGRU\u001b[0m)                     │ (\u001b[38;5;45mNone\u001b[0m, \u001b[38;5;34m3\u001b[0m, \u001b[38;5;34m512\u001b[0m)         │       \u001b[38;5;34m791,040\u001b[0m │\n",
       "├─────────────────────────────────┼────────────────────────┼───────────────┤\n",
       "│ gru_3 (\u001b[38;5;33mGRU\u001b[0m)                     │ (\u001b[38;5;45mNone\u001b[0m, \u001b[38;5;34m256\u001b[0m)            │       \u001b[38;5;34m591,360\u001b[0m │\n",
       "├─────────────────────────────────┼────────────────────────┼───────────────┤\n",
       "│ dense_1 (\u001b[38;5;33mDense\u001b[0m)                 │ (\u001b[38;5;45mNone\u001b[0m, \u001b[38;5;34m2\u001b[0m)              │           \u001b[38;5;34m514\u001b[0m │\n",
       "└─────────────────────────────────┴────────────────────────┴───────────────┘\n"
      ]
     },
     "metadata": {},
     "output_type": "display_data"
    },
    {
     "data": {
      "text/html": [
       "<pre style=\"white-space:pre;overflow-x:auto;line-height:normal;font-family:Menlo,'DejaVu Sans Mono',consolas,'Courier New',monospace\"><span style=\"font-weight: bold\"> Total params: </span><span style=\"color: #00af00; text-decoration-color: #00af00\">1,382,914</span> (5.28 MB)\n",
       "</pre>\n"
      ],
      "text/plain": [
       "\u001b[1m Total params: \u001b[0m\u001b[38;5;34m1,382,914\u001b[0m (5.28 MB)\n"
      ]
     },
     "metadata": {},
     "output_type": "display_data"
    },
    {
     "data": {
      "text/html": [
       "<pre style=\"white-space:pre;overflow-x:auto;line-height:normal;font-family:Menlo,'DejaVu Sans Mono',consolas,'Courier New',monospace\"><span style=\"font-weight: bold\"> Trainable params: </span><span style=\"color: #00af00; text-decoration-color: #00af00\">1,382,914</span> (5.28 MB)\n",
       "</pre>\n"
      ],
      "text/plain": [
       "\u001b[1m Trainable params: \u001b[0m\u001b[38;5;34m1,382,914\u001b[0m (5.28 MB)\n"
      ]
     },
     "metadata": {},
     "output_type": "display_data"
    },
    {
     "data": {
      "text/html": [
       "<pre style=\"white-space:pre;overflow-x:auto;line-height:normal;font-family:Menlo,'DejaVu Sans Mono',consolas,'Courier New',monospace\"><span style=\"font-weight: bold\"> Non-trainable params: </span><span style=\"color: #00af00; text-decoration-color: #00af00\">0</span> (0.00 B)\n",
       "</pre>\n"
      ],
      "text/plain": [
       "\u001b[1m Non-trainable params: \u001b[0m\u001b[38;5;34m0\u001b[0m (0.00 B)\n"
      ]
     },
     "metadata": {},
     "output_type": "display_data"
    },
    {
     "name": "stdout",
     "output_type": "stream",
     "text": [
      "None\n",
      "Epoch 1/10\n",
      "\u001b[1m472/472\u001b[0m \u001b[32m━━━━━━━━━━━━━━━━━━━━\u001b[0m\u001b[37m\u001b[0m \u001b[1m16s\u001b[0m 27ms/step - accuracy: 0.9447 - loss: 0.1766 - val_accuracy: 0.9933 - val_loss: 0.0205\n",
      "Epoch 2/10\n",
      "\u001b[1m472/472\u001b[0m \u001b[32m━━━━━━━━━━━━━━━━━━━━\u001b[0m\u001b[37m\u001b[0m \u001b[1m11s\u001b[0m 24ms/step - accuracy: 0.9697 - loss: 0.0783 - val_accuracy: 0.9929 - val_loss: 0.0207\n",
      "Epoch 3/10\n",
      "\u001b[1m472/472\u001b[0m \u001b[32m━━━━━━━━━━━━━━━━━━━━\u001b[0m\u001b[37m\u001b[0m \u001b[1m13s\u001b[0m 28ms/step - accuracy: 0.9724 - loss: 0.0716 - val_accuracy: 0.9936 - val_loss: 0.0182\n",
      "Epoch 4/10\n",
      "\u001b[1m472/472\u001b[0m \u001b[32m━━━━━━━━━━━━━━━━━━━━\u001b[0m\u001b[37m\u001b[0m \u001b[1m11s\u001b[0m 23ms/step - accuracy: 0.9764 - loss: 0.0640 - val_accuracy: 0.9943 - val_loss: 0.0176\n",
      "Epoch 5/10\n",
      "\u001b[1m472/472\u001b[0m \u001b[32m━━━━━━━━━━━━━━━━━━━━\u001b[0m\u001b[37m\u001b[0m \u001b[1m22s\u001b[0m 26ms/step - accuracy: 0.9775 - loss: 0.0612 - val_accuracy: 0.9936 - val_loss: 0.0193\n",
      "Epoch 6/10\n",
      "\u001b[1m472/472\u001b[0m \u001b[32m━━━━━━━━━━━━━━━━━━━━\u001b[0m\u001b[37m\u001b[0m \u001b[1m16s\u001b[0m 34ms/step - accuracy: 0.9727 - loss: 0.0692 - val_accuracy: 0.9920 - val_loss: 0.0171\n",
      "Epoch 7/10\n",
      "\u001b[1m472/472\u001b[0m \u001b[32m━━━━━━━━━━━━━━━━━━━━\u001b[0m\u001b[37m\u001b[0m \u001b[1m13s\u001b[0m 26ms/step - accuracy: 0.9782 - loss: 0.0558 - val_accuracy: 0.9920 - val_loss: 0.0162\n",
      "Epoch 8/10\n",
      "\u001b[1m472/472\u001b[0m \u001b[32m━━━━━━━━━━━━━━━━━━━━\u001b[0m\u001b[37m\u001b[0m \u001b[1m11s\u001b[0m 24ms/step - accuracy: 0.9773 - loss: 0.0577 - val_accuracy: 0.9949 - val_loss: 0.0149\n",
      "Epoch 9/10\n",
      "\u001b[1m472/472\u001b[0m \u001b[32m━━━━━━━━━━━━━━━━━━━━\u001b[0m\u001b[37m\u001b[0m \u001b[1m11s\u001b[0m 24ms/step - accuracy: 0.9757 - loss: 0.0594 - val_accuracy: 0.9943 - val_loss: 0.0158\n",
      "Epoch 10/10\n",
      "\u001b[1m472/472\u001b[0m \u001b[32m━━━━━━━━━━━━━━━━━━━━\u001b[0m\u001b[37m\u001b[0m \u001b[1m12s\u001b[0m 25ms/step - accuracy: 0.9792 - loss: 0.0555 - val_accuracy: 0.9926 - val_loss: 0.0164\n",
      "\u001b[1m72/72\u001b[0m \u001b[32m━━━━━━━━━━━━━━━━━━━━\u001b[0m\u001b[37m\u001b[0m \u001b[1m1s\u001b[0m 5ms/step - accuracy: 0.9927 - loss: 0.0131\n"
     ]
    },
    {
     "data": {
      "text/plain": [
       "[0.04499903321266174, 0.9780605435371399]"
      ]
     },
     "execution_count": 33,
     "metadata": {},
     "output_type": "execute_result"
    }
   ],
   "source": [
    "model = keras.Sequential()\n",
    "model.add(keras.Input(shape=(3, 1))) #no specific amount of timesteps, 3 pixels in each row/timestep\n",
    "model.add(layers.GRU(512, return_sequences=True, activation='relu')) #returns the output of each timestep so we can stack multiple RNN layers\n",
    "model.add(layers.GRU(256, activation='relu')) #no return sequences so that normal dense layers can proceed it\n",
    "model.add(layers.Dense(2))\n",
    "\n",
    "#could do LSTM, GRU, or RNN and can change by literally just swapping them out\n",
    "\n",
    "print(model.summary())\n",
    "\n",
    "#RNNs typically use tanh instead of relu\n",
    "\n",
    "model.compile(\n",
    "    loss=keras.losses.SparseCategoricalCrossentropy(from_logits=True), #fromlogits is true since we don't have softmax activation in final dense layer\n",
    "    optimizer=keras.optimizers.Adam(learning_rate=0.001), #dont make learning rate too high or will result in overfitment of training data\n",
    "    metrics=['accuracy']\n",
    ")\n",
    "\n",
    "model.fit(X_train, y_train, batch_size=32, validation_data=(X_val, y_val),epochs=10, verbose=1)\n",
    "\n",
    "model.evaluate(X_test, y_test, batch_size=32, verbose=1)"
   ]
  },
  {
   "cell_type": "code",
   "execution_count": null,
   "id": "b425bbd4-221e-469f-b099-35f8b8604b8a",
   "metadata": {},
   "outputs": [],
   "source": []
  }
 ],
 "metadata": {
  "kernelspec": {
   "display_name": "Python 3 (ipykernel)",
   "language": "python",
   "name": "python3"
  },
  "language_info": {
   "codemirror_mode": {
    "name": "ipython",
    "version": 3
   },
   "file_extension": ".py",
   "mimetype": "text/x-python",
   "name": "python",
   "nbconvert_exporter": "python",
   "pygments_lexer": "ipython3",
   "version": "3.12.4"
  }
 },
 "nbformat": 4,
 "nbformat_minor": 5
}
