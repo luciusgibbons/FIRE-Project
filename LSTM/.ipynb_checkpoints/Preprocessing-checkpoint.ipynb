{
 "cells": [
  {
   "cell_type": "code",
   "execution_count": 1,
   "id": "4da51a56-5924-4eaf-90ae-f94ba04ffd73",
   "metadata": {},
   "outputs": [],
   "source": [
    "import os\n",
    "import pandas as pd\n",
    "import numpy as np\n",
    "import matplotlib.pyplot as plt\n",
    "from bs4 import BeautifulSoup as bs\n",
    "import requests\n",
    "import re\n",
    "\n",
    "pd.options.mode.copy_on_write = True"
   ]
  },
  {
   "cell_type": "code",
   "execution_count": 2,
   "id": "99841780-f44b-446a-9d72-d228baede296",
   "metadata": {},
   "outputs": [],
   "source": [
    "class gitinfo:\n",
    "    def __init__(self):\n",
    "        while True:\n",
    "            res = requests.get('https://github.com/luciusgibbons/FIRE-Project/tree/main/LSTM/CSVs%20with%20indexes') #pulls data from github folder link\n",
    "            soup = bs(res.text, 'lxml')    \n",
    "            file =soup.find_all(title=re.compile(r\"\\.csv$\")) #list of all items with .csv THERE WILL BE DUPLICATES\n",
    "            if len(file) != 0: #sometimes the api fails and file is empty, just keeps going until it is populated\n",
    "            \n",
    "                output = set() #set to prevent duplicates \n",
    "            \n",
    "                for i in file:\n",
    "                    x = i.extract().get_text() #turns it into a text string\n",
    "                    output.add(x) \n",
    "                    \n",
    "                output = list(output) #back to list for indexing capabilities\n",
    "                self.csv_list = output\n",
    "                self.txt_list = [x.replace('.csv', '.txt') for x in output]\n",
    "                break\n",
    "\n",
    "def Selected_Features_Only(oldframe, featurelist): #takes a dataframe and a list of selected features\n",
    "    all = ['Temperature', 'Pressure', 'Humidity', '1.0 std', '2.5 std', '10 std', '1.0 atm', '2.5 atm', '10 atm', 'MQ7', 'Date', 'Time'] #for indexing\n",
    "    newframe = pd.DataFrame()\n",
    "\n",
    "    for column in featurelist:\n",
    "        newframe[column] = oldframe.loc[:, oldframe.columns[all.index(column)]]\n",
    "\n",
    "    return newframe #spits out a new dataframe with only the selected features\n",
    "\n",
    "def Add_Fire_Column(dataframe, textfile):\n",
    "    dataframe['Fire'] = 0 #creates an empty column in the specified dataframe titled 'Fire'\n",
    "    url = 'https://github.com/luciusgibbons/FIRE-Project/blob/main/LSTM/CSVs%20with%20indexes/'+textfile+'?raw=true' #creates url from name of textfile\n",
    "    values = [int(i) for i in list(pd.read_csv(url))] #generates a dataframe from the file, converts it to a list, converts each item in list to int()\n",
    "        \n",
    "    if len(values) != 1 or values[0] !=0: #if len(values) == 1 AND values[0] == 0, there were no instances of fire\n",
    "        for i in range(0, len(values), 2): #iterate through the length of the list by two\n",
    "            intervals = range(values[i], values[i+1]) #creates a range from i to i+1\n",
    "            dataframe.loc[intervals, 'Fire'] = 1 #in each range the value in 'Fire' is a 1 and not a 0\n",
    "\n",
    "def Get_DateTime_Column(newframe, oldframe): #pulls date and time from oldframe and adds DateTime to newframe\n",
    "    date = oldframe.columns[list(oldframe.columns.str.lower()).index('date')] #pulls name of date column in oldframe case-insensitive without changing name\n",
    "    time = oldframe.columns[list(oldframe.columns.str.lower()).index('time')]\n",
    "    oldframe[date] = oldframe[date].apply(lambda x: pd.to_datetime(x).strftime('%m/%d/%Y')) #eg 07/17/24 ==> 07/17/2024, but 07/17/2024 still works\n",
    "    newframe['DateTime'] = pd.to_datetime(oldframe[[date, time]].agg(' '.join, axis=1), format='%m/%d/%Y %H:%M:%S') #convert to Pandas DateTime object\n",
    "\n",
    "def Purge_Init_Zeros(dataframe):\n",
    "    while 0 in dataframe.loc[0, dataframe.columns[0:len(Features)]].values: #while theres a 0 in the first row in any of the first 6 columns:\n",
    "        dataframe.drop(index=0, inplace=True) #drops that row\n",
    "        dataframe.reset_index(drop=True, inplace=True) #fixes index\n",
    "\n",
    "def Linear_Scale(column): #normal absolute max normalization\n",
    "    df[column] = (df[column] - df[column].min()) / (df[column].max() - df[column].min())\n",
    "    \n",
    "def Z_norm(column): #see z-score normalization, better for outlier detection\n",
    "    df[column] = (df[column] - df[column].mean()) / df[column].std()"
   ]
  },
  {
   "cell_type": "code",
   "execution_count": 27,
   "id": "060fc967-1b90-4a48-9cd8-583c56682971",
   "metadata": {},
   "outputs": [
    {
     "data": {
      "text/plain": [
       "['rooftop_test_1_node_2.csv',\n",
       " 'rooftop_test_1_node3_trial2.csv',\n",
       " 'node_one_7_19_24.csv',\n",
       " 'node_one_7_17_24.csv',\n",
       " 'node_two_7_17_24.csv',\n",
       " 'node_two_7_19_24.csv']"
      ]
     },
     "execution_count": 27,
     "metadata": {},
     "output_type": "execute_result"
    }
   ],
   "source": [
    "a = gitinfo()\n",
    "\n",
    "csvs = a.csv_list\n",
    "txts = a.txt_list\n",
    "csvs"
   ]
  },
  {
   "cell_type": "code",
   "execution_count": 45,
   "id": "b1d73ba5-11e9-4c4b-9700-f78df7622c51",
   "metadata": {},
   "outputs": [],
   "source": [
    "Features = ['1.0 std', '2.5 std', '10 std'] #always exclude DateTime and Mac Address\n",
    "\n",
    "df_list = [pd.read_csv('https://github.com/luciusgibbons/FIRE-Project/blob/main/LSTM/CSVs%20with%20indexes/'+csv+'?raw=true') for csv in csvs] #creates a list of dataframes from list of csvs\n",
    "new_df_list = [Selected_Features_Only(i, Features) for i in df_list] #creates a new list of dataframes, useful for preserving old data\n",
    "\n",
    "for i in range(len(new_df_list)): #go through each df by index and:\n",
    "    Add_Fire_Column(new_df_list[i], txts[i]) #add fire column from associated txt file\n",
    "    Get_DateTime_Column(new_df_list[i], df_list[i]) #DateTime object column, pulls from df_list\n",
    "    Purge_Init_Zeros(new_df_list[i]) #first couple of columns tend to have 0s where they shouldn't, purge them\n",
    "    new_df_list[i].drop_duplicates(subset=new_df_list[i].columns[0:len(Features)],ignore_index=True, inplace=True) #drop duplicates\n",
    "\n",
    "df = pd.concat(new_df_list, ignore_index=True) #concatenate the list into a single dataframe for more processing"
   ]
  },
  {
   "cell_type": "code",
   "execution_count": 55,
   "id": "e4449692-57da-4814-8b35-85c47b910367",
   "metadata": {},
   "outputs": [
    {
     "data": {
      "text/plain": [
       "\"\\nbothempty = [pd.read_csv('rooftop_test_1_node_2.csv'), pd.read_csv('rooftop_test_1_node3_trial2.csv')]\\nbig = pd.concat(bothempty, ignore_index=True)\\nnew_big = Selected_Features_Only(big, Features)\\nnew_big['Fire'] = 0\\nGet_DateTime_Column(new_big, big)\\n\\nnew_big.to_csv('empty.csv', index=False)\\n\""
      ]
     },
     "execution_count": 55,
     "metadata": {},
     "output_type": "execute_result"
    }
   ],
   "source": [
    "r'''\n",
    "bothempty = [pd.read_csv('rooftop_test_1_node_2.csv'), pd.read_csv('rooftop_test_1_node3_trial2.csv')]\n",
    "big = pd.concat(bothempty, ignore_index=True)\n",
    "new_big = Selected_Features_Only(big, Features)\n",
    "new_big['Fire'] = 0\n",
    "Get_DateTime_Column(new_big, big)\n",
    "\n",
    "new_big.to_csv('empty.csv', index=False)\n",
    "'''"
   ]
  },
  {
   "cell_type": "code",
   "execution_count": 13,
   "id": "d4d66617-cbcd-498e-a200-54174cd960a8",
   "metadata": {},
   "outputs": [
    {
     "data": {
      "text/plain": [
       "[<matplotlib.lines.Line2D at 0x27c514f5dc0>]"
      ]
     },
     "execution_count": 13,
     "metadata": {},
     "output_type": "execute_result"
    },
    {
     "data": {
      "image/png": "[encoded data removed]",
      "text/plain": [
       "<Figure size 640x480 with 1 Axes>"
      ]
     },
     "metadata": {},
     "output_type": "display_data"
    }
   ],
   "source": [
    "df['Temperature'] = (df['Temperature'] / 500) + 24 #converts to deg C\n",
    "df['Humidity'] = df['Humidity'] / 512\n",
    "\n",
    "df = df.assign(Humidity=df['Humidity'].abs()) #turns humidity positive since its just negative sometimes\n",
    "\n",
    "df.drop(df[df['Humidity'] == 0].index, inplace=True) #drops anytime humidity is 0\n",
    "df.drop(df[df['Pressure'] == 0].index, inplace=True) #drops anytime pressure is 0\n",
    "\n",
    "\n",
    "for column in Features:\n",
    "    df[column] = df[column].astype(float)\n",
    "\n",
    "#df['1.0 std'].clip(0, 3000)\n",
    "\n",
    "\n",
    "df['1.0 std'] = df['1.0 std'].clip(upper=500)\n",
    "df['2.5 std'] = df['2.5 std'].clip(upper=1000) #all cause of one stupid glitch in the data which ill delete later\n",
    "df['10 std'] = df['10 std'].clip(upper=3000)\n",
    "\n",
    "for column in ['1.0 std', '2.5 std', '10 std']:\n",
    "    Z_norm(column)\n",
    "\n",
    "\n",
    "for column in Features:\n",
    "    Linear_Scale(column)\n",
    "\n",
    "\n",
    "\n",
    "#plt.plot(df.index[:], df['Temperature'][:])\n",
    "plt.plot(df.index[:], df['10 std'])\n",
    "#df.to_csv('processed.csv', index=False)"
   ]
  },
  {
   "cell_type": "code",
   "execution_count": null,
   "id": "05b3ce55-7099-44b8-9630-466e5ff3d049",
   "metadata": {},
   "outputs": [],
   "source": []
  }
 ],
 "metadata": {
  "kernelspec": {
   "display_name": "Python 3 (ipykernel)",
   "language": "python",
   "name": "python3"
  },
  "language_info": {
   "codemirror_mode": {
    "name": "ipython",
    "version": 3
   },
   "file_extension": ".py",
   "mimetype": "text/x-python",
   "name": "python",
   "nbconvert_exporter": "python",
   "pygments_lexer": "ipython3",
   "version": "3.12.4"
  }
 },
 "nbformat": 4,
 "nbformat_minor": 5
}
